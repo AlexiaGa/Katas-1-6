{
 "cells": [
  {
   "cell_type": "markdown",
   "metadata": {},
   "source": [
    "## Transformando cadenas\n",
    "Texto: \"\"\"Interesting facts about the Moon. The Moon is Earth's only satellite. There are several interesting facts about the Moon and how it affects life here on Earth. \n",
    "On average, the Moon moves 4cm away from the Earth every year. This yearly drift is not significant enough to cause immediate effects on Earth. The highest daylight temperature of the Moon is 127 C.\"\"\"\n"
   ]
  },
  {
   "cell_type": "markdown",
   "metadata": {},
   "source": [
    "### Dividir texto"
   ]
  },
  {
   "cell_type": "code",
   "execution_count": 30,
   "metadata": {},
   "outputs": [
    {
     "name": "stdout",
     "output_type": "stream",
     "text": [
      "['Interesting facts about the Moon', \" The Moon is Earth's only satellite\", ' There are several interesting facts about the Moon and how it affects life here on Earth', ' \\nOn average, the Moon moves 4cm away from the Earth every year', ' This yearly drift is not significant enough to cause immediate effects on Earth', ' The highest daylight temperature of the Moon is 127 C', '']\n"
     ]
    }
   ],
   "source": [
    "texto = \"\"\"Interesting facts about the Moon. The Moon is Earth's only satellite. There are several interesting facts about the Moon and how it affects life here on Earth. \n",
    "On average, the Moon moves 4cm away from the Earth every year. This yearly drift is not significant enough to cause immediate effects on Earth. The highest daylight temperature of the Moon is 127 C.\"\"\"\n",
    "lista = texto. split (\".\")\n",
    "print (lista)"
   ]
  },
  {
   "cell_type": "code",
   "execution_count": 3,
   "metadata": {},
   "outputs": [
    {
     "data": {
      "text/plain": [
       "True"
      ]
     },
     "execution_count": 3,
     "metadata": {},
     "output_type": "execute_result"
    }
   ],
   "source": [
    "'Moon' in \"The Moon is Earth's only satellite\""
   ]
  },
  {
   "cell_type": "markdown",
   "metadata": {},
   "source": [
    "### Definir palabras clave"
   ]
  },
  {
   "cell_type": "code",
   "execution_count": 23,
   "metadata": {},
   "outputs": [
    {
     "name": "stdout",
     "output_type": "stream",
     "text": [
      " \n",
      "On average, the Moon moves 4cm away from the Earth every year. The highest daylight temperature of the Moon is 127 C.\n"
     ]
    }
   ],
   "source": [
    "resumen = \"\"\n",
    "for i in lista:\n",
    "    if (\"average\" in i) or (\"temperature\" in i) or (\"distance\" in i):\n",
    "        resumen = resumen + i + \".\"\n",
    "print(resumen) "
   ]
  },
  {
   "cell_type": "markdown",
   "metadata": {},
   "source": [
    "### Cambiar de C a Celsius"
   ]
  },
  {
   "cell_type": "code",
   "execution_count": 31,
   "metadata": {},
   "outputs": [
    {
     "name": "stdout",
     "output_type": "stream",
     "text": [
      "Interesting facts about the Moon. The Moon is Earth's only satellite. There are several interesting facts about the Moon and how it affects life here on Earth. \n",
      "On average, the Moon moves 4cm away from the Earth every year. This yearly drift is not significant enough to cause immediate effects on Earth. The highest daylight temperature of the Moon is 127 Celsius.\n"
     ]
    }
   ],
   "source": [
    "texto2 = texto.replace(\"C\" , \"Celsius\")\n",
    "print (texto2)"
   ]
  },
  {
   "cell_type": "markdown",
   "metadata": {},
   "source": [
    "## Formateando cadenas"
   ]
  },
  {
   "cell_type": "code",
   "execution_count": 32,
   "metadata": {},
   "outputs": [
    {
     "name": "stdout",
     "output_type": "stream",
     "text": [
      "Datos Sobre La Gravedad En Luna\n",
      "-------------------------------------------------------------------------------\n",
      "Nombre: Luna\n",
      "Gravedad: 1.62m/s2\n",
      "Nombre del planeta: Tierra\n",
      "\n",
      "Datos Sobre La Gravedad En Ganímedes\n",
      "-------------------------------------------------------------------------------\n",
      "Nombre: Ganímedes\n",
      "Gravedad: 1.43m/s2\n",
      "Nombre del planeta: Marte\n",
      "\n"
     ]
    }
   ],
   "source": [
    "name = \"Luna\"\n",
    "gravity = 0.00162 # in kms\n",
    "planet = \"Tierra\"\n",
    "\n",
    "# título\n",
    "title = f\"Datos sobre la gravedad en {name}\\n\"\n",
    "\n",
    "# Creamos la plantilla \n",
    "facts = f\"\"\"-------------------------------------------------------------------------------\n",
    "Nombre: {name}\n",
    "Gravedad: {round(gravity*1000,4)}m/s2\n",
    "Nombre del planeta: {planet}\n",
    "\"\"\"\n",
    "formato = title.title() + facts\n",
    "print(formato)\n",
    "\n",
    "name2 = \"Ganímedes\"\n",
    "gravity2 = 0.00143 # in kms\n",
    "planet2 = \"Marte\"\n",
    "\n",
    "#nueva plantilla\n",
    "formato2 = formato.replace(name, name2)\n",
    "formato2 = formato2.replace(str(round(gravity*1000,4)), str(round(gravity2*1000,4)))\n",
    "formato2 = formato2.replace(planet, planet2)\n",
    "\n",
    "print(formato2)"
   ]
  }
 ],
 "metadata": {
  "interpreter": {
   "hash": "aee8b7b246df8f9039afb4144a1f6fd8d2ca17a180786b69acc140d282b71a49"
  },
  "kernelspec": {
   "display_name": "Python 3.8.0 64-bit",
   "language": "python",
   "name": "python3"
  },
  "language_info": {
   "codemirror_mode": {
    "name": "ipython",
    "version": 3
   },
   "file_extension": ".py",
   "mimetype": "text/x-python",
   "name": "python",
   "nbconvert_exporter": "python",
   "pygments_lexer": "ipython3",
   "version": "3.8.0"
  },
  "orig_nbformat": 4
 },
 "nbformat": 4,
 "nbformat_minor": 2
}
