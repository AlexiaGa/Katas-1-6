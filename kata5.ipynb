{
 "cells": [
  {
   "cell_type": "markdown",
   "metadata": {},
   "source": [
    "## Operadores matemáticos de Python"
   ]
  },
  {
   "cell_type": "code",
   "execution_count": null,
   "metadata": {},
   "outputs": [],
   "source": [
    "Tierra = 149597870 #km\n",
    "Jupiter = 778547200 #km\n",
    "distan_km= (Jupiter - Tierra)\n",
    "print (f\"La distancia del Jupiter a la Tierra es de {distan_km} km\")\n",
    "millas = round(distan_km * 0.621)\n",
    "print (f\"La distancia de Jupiter a la Tierra es de {millas} millas\")"
   ]
  },
  {
   "cell_type": "markdown",
   "metadata": {},
   "source": [
    "## Convertir los valores de cadena en valores absolutos"
   ]
  },
  {
   "cell_type": "code",
   "execution_count": 7,
   "metadata": {},
   "outputs": [
    {
     "name": "stdout",
     "output_type": "stream",
     "text": [
      " planeta1: Mercurio \n",
      "Distancia al sol es : 57900000 km\n",
      " planeta2: Saturno\n",
      "Distancia al sol es : 1433500000 km\n",
      "La distancia entre Mercurio  y Saturno es de:\n",
      "---------------------------------------------------------------\n",
      "1375600000 km, o 854247600 millas\n"
     ]
    }
   ],
   "source": [
    "# Datos: \n",
    "# 1 Mercurio \t57900000\n",
    "# 2 Venus \t108200000\n",
    "# 3 Tierra \t149600000\n",
    "# 4 Marte \t227900000\n",
    "# 5 Júpiter 778600000\n",
    "# 6 Saturno \t1433500000\n",
    "# 7 Urano \t2872500000\n",
    "# 8 Neptuno \t4495100000\n",
    "\n",
    "planeta1 = input(\"\\nIntroduce el nombre del primer planeta: \")\n",
    "distancia1 = int(input(f\"\\nInserta la distancia del planeta {planeta1}\"))\n",
    "\n",
    "planeta2 = input(\"\\nIntroduce el nombre del primer planeta: \")\n",
    "distancia2 = int(input(f\"\\nInserta la distancia del planeta {planeta2}\"))\n",
    "\n",
    "diferencia = abs(distancia2-distancia1)\n",
    "millas = abs(int(diferencia * 0.621))\n",
    "\n",
    "print (f\"\"\" planeta1: {planeta1}\n",
    "Distancia al sol es : {distancia1} km\"\"\")\n",
    "\n",
    "print (f\"\"\" planeta2: {planeta2}\n",
    "Distancia al sol es : {distancia2} km\"\"\")\n",
    "\n",
    "print (f\"\"\"La distancia entre {planeta1} y {planeta2} es de:\n",
    "---------------------------------------------------------------\n",
    "{diferencia} km, o {millas} millas\"\"\")"
   ]
  }
 ],
 "metadata": {
  "interpreter": {
   "hash": "aee8b7b246df8f9039afb4144a1f6fd8d2ca17a180786b69acc140d282b71a49"
  },
  "kernelspec": {
   "display_name": "Python 3.8.0 64-bit",
   "language": "python",
   "name": "python3"
  },
  "language_info": {
   "codemirror_mode": {
    "name": "ipython",
    "version": 3
   },
   "file_extension": ".py",
   "mimetype": "text/x-python",
   "name": "python",
   "nbconvert_exporter": "python",
   "pygments_lexer": "ipython3",
   "version": "3.8.0"
  },
  "orig_nbformat": 4
 },
 "nbformat": 4,
 "nbformat_minor": 2
}
