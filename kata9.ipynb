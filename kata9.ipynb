{
 "cells": [
  {
   "cell_type": "markdown",
   "metadata": {},
   "source": [
    "## Ejercicio: Uso de funciones en Python"
   ]
  },
  {
   "cell_type": "code",
   "execution_count": 12,
   "metadata": {},
   "outputs": [],
   "source": [
    "def funcion (tanque1, tanque2, tanque3):\n",
    "    return (tanque1 + tanque2 + tanque3) / 3"
   ]
  },
  {
   "cell_type": "code",
   "execution_count": 11,
   "metadata": {},
   "outputs": [
    {
     "name": "stdout",
     "output_type": "stream",
     "text": [
      " El informe de combustible indica que tienes 0 % de combustible\n"
     ]
    }
   ],
   "source": [
    "print(f\"\"\" El informe de combustible indica que tienes {int(funcion(0, 0, 0))} % de combustible\"\"\")"
   ]
  },
  {
   "cell_type": "code",
   "execution_count": 17,
   "metadata": {},
   "outputs": [],
   "source": [
    "def prom (*tanques):\n",
    "    suma= 0\n",
    "    for i in range(len(tanques)):\n",
    "        suma= suma + tanques[i]\n",
    "    return (suma/len(tanques))\n",
    "\n",
    "def diccionario (**dicc):\n",
    "    for i in range(len(dicc.values))\n",
    "    print (dicc[i])"
   ]
  },
  {
   "cell_type": "code",
   "execution_count": 21,
   "metadata": {},
   "outputs": [
    {
     "name": "stdout",
     "output_type": "stream",
     "text": [
      "El informe de combustible indica que tienes 23.33 % de combustible\n"
     ]
    }
   ],
   "source": [
    "tanq1 = 20\n",
    "tanq2 = 40\n",
    "tanq3 = 10\n",
    "print (f\"\"\"El informe de combustible indica que tienes {round(prom(tanq1, tanq2, tanq3),2)} % de combustible\"\"\")"
   ]
  },
  {
   "cell_type": "markdown",
   "metadata": {},
   "source": [
    "## Ejercicio 2: Trabajo con argumentos de palabra clave"
   ]
  },
  {
   "cell_type": "code",
   "execution_count": 46,
   "metadata": {},
   "outputs": [],
   "source": [
    "# Función con un informe preciso de la misión. Considera hora de prelanzamiento, tiempo de vuelo, destino, tanque externo y tanque interno\n",
    "from datetime import timedelta, datetime\n",
    "\n",
    "def arrival_time(hours):\n",
    "    arrival= datetime.now() + timedelta(hours=hours)\n",
    "    return arrival\n",
    "\n",
    "def informe (temp_vuelo, destino, tanq_ext, tanq_int):\n",
    "    print (f\"\"\"Informe de cohete:\n",
    "Hora de prelanzamiento: {datetime.now()} hrs\n",
    "Tiempo de vuelo: {temp_vuelo} hrs\n",
    "Hora de llegada: {arrival_time(temp_vuelo).strftime(f'%A %H:%M')} hrs\n",
    "Fecha de llegada: {arrival_time(temp_vuelo).strftime(f'%Y-%m-%d')}\n",
    "Destino: {destino}\n",
    "Tanque externo: {round(tanq_ext)} %\n",
    "Tanque interno: {round(tanq_int)}%\"\"\")"
   ]
  },
  {
   "cell_type": "code",
   "execution_count": 47,
   "metadata": {},
   "outputs": [
    {
     "name": "stdout",
     "output_type": "stream",
     "text": [
      "Informe de cohete:\n",
      "Hora de prelanzamiento: 2022-02-20 01:41:17.813619 hrs\n",
      "Tiempo de vuelo: 51 hrs\n",
      "Hora de llegada: Tuesday 04:41 hrs\n",
      "Fecha de llegada: 2022-02-22\n",
      "Destino: Luna\n",
      "Tanque externo: 80 %\n",
      "Tanque interno: 20%\n"
     ]
    }
   ],
   "source": [
    "informe(51, \"Luna\", 80, 20)"
   ]
  },
  {
   "cell_type": "code",
   "execution_count": 55,
   "metadata": {},
   "outputs": [],
   "source": [
    "# Escribe tu nueva función de reporte considerando lo anterior\n",
    "\n",
    "def informe_chido(destino, *horas, **reserva):\n",
    "    print (f\"\"\"Informe de cohete:\n",
    "Hora de prelanzamiento: {datetime.now()} hrs\n",
    "Tiempo de vuelo: {sum(horas)} hrs\n",
    "Hora de llegada: {arrival_time(sum(horas)).strftime(f'%A %H:%M')} hrs\n",
    "Fecha de llegada: {arrival_time(sum(horas)).strftime(f'%Y-%m-%d')}\n",
    "Destino: {destino}\n",
    "Reserva: Tienes una reserva del {round(sum(reserva.values())/ len(reserva),3)} %\"\"\")\n"
   ]
  },
  {
   "cell_type": "code",
   "execution_count": 56,
   "metadata": {},
   "outputs": [
    {
     "name": "stdout",
     "output_type": "stream",
     "text": [
      "Informe de cohete:\n",
      "Hora de prelanzamiento: 2022-02-20 02:02:39.489419 hrs\n",
      "Tiempo de vuelo: 50 hrs\n",
      "Hora de llegada: Tuesday 04:02 hrs\n",
      "Fecha de llegada: 2022-02-22\n",
      "Destino: Jupiter\n",
      "Reserva: Tienes una reserva del 41.0 %\n"
     ]
    }
   ],
   "source": [
    "informe_chido(\"Jupiter\", 10, 12, 28, Interno= 25, externo= 18, emergencia= 80)"
   ]
  },
  {
   "cell_type": "code",
   "execution_count": 57,
   "metadata": {},
   "outputs": [],
   "source": [
    "# Escribe tu nueva función\n",
    "\n",
    "def informe_final (destino, *horas, **reserva):\n",
    "    print (f\"\"\"Informe de cohete:\n",
    "Hora de prelanzamiento: {datetime.now()} hrs\n",
    "Tiempo de vuelo: {sum(horas)} hrs\n",
    "Hora de llegada: {arrival_time(sum(horas)).strftime(f'%A %H:%M')} hrs\n",
    "Fecha de llegada: {arrival_time(sum(horas)).strftime(f'%Y-%m-%d')}\n",
    "Destino: {destino}\n",
    "Reserva: Tienes una reserva del {round(sum(reserva.values())/ len(reserva),3)} %\"\"\")\n",
    "\n",
    "    for i in reserva.keys():\n",
    "        print (F\"\"\"     Tanque {i}: {reserva[i]}\"\"\")"
   ]
  },
  {
   "cell_type": "code",
   "execution_count": 58,
   "metadata": {},
   "outputs": [
    {
     "name": "stdout",
     "output_type": "stream",
     "text": [
      "Informe de cohete:\n",
      "Hora de prelanzamiento: 2022-02-20 02:18:56.552018 hrs\n",
      "Tiempo de vuelo: 50 hrs\n",
      "Hora de llegada: Tuesday 04:18 hrs\n",
      "Fecha de llegada: 2022-02-22\n",
      "Destino: Jupiter\n",
      "Reserva: Tienes una reserva del 41.0 %\n",
      "     Tanque Interno: 25\n",
      "     Tanque externo: 18\n",
      "     Tanque emergencia: 80\n"
     ]
    }
   ],
   "source": [
    "informe_final(\"Jupiter\", 10, 12, 28, Interno= 25, externo= 18, emergencia= 80)"
   ]
  }
 ],
 "metadata": {
  "interpreter": {
   "hash": "aee8b7b246df8f9039afb4144a1f6fd8d2ca17a180786b69acc140d282b71a49"
  },
  "kernelspec": {
   "display_name": "Python 3.8.0 64-bit",
   "language": "python",
   "name": "python3"
  },
  "language_info": {
   "codemirror_mode": {
    "name": "ipython",
    "version": 3
   },
   "file_extension": ".py",
   "mimetype": "text/x-python",
   "name": "python",
   "nbconvert_exporter": "python",
   "pygments_lexer": "ipython3",
   "version": "3.8.0"
  },
  "orig_nbformat": 4
 },
 "nbformat": 4,
 "nbformat_minor": 2
}
