{
 "cells": [
  {
   "cell_type": "markdown",
   "metadata": {},
   "source": [
    "## Advertencia"
   ]
  },
  {
   "cell_type": "code",
   "execution_count": 10,
   "metadata": {},
   "outputs": [
    {
     "name": "stdout",
     "output_type": "stream",
     "text": [
      "Cuidado, el asteroide se acerca, corre por tu vida\n"
     ]
    }
   ],
   "source": [
    "vel_aster = 49 #km/s\n",
    "if vel_aster >= 25: \n",
    "    print (\"Cuidado, el asteroide se acerca, corre por tu vida\") "
   ]
  },
  {
   "cell_type": "markdown",
   "metadata": {},
   "source": [
    "## Advertencia de rayo de luz"
   ]
  },
  {
   "cell_type": "code",
   "execution_count": 18,
   "metadata": {},
   "outputs": [
    {
     "name": "stdout",
     "output_type": "stream",
     "text": [
      "No te preocupes, todo en orden\n"
     ]
    }
   ],
   "source": [
    "vel_aster_ray = 19 #km/s\n",
    "if vel_aster_ray == 20:\n",
    "    print (\"Mira al cielo, ¡Se ve un rayo de luz!\")\n",
    "elif vel_aster_ray >= 20:\n",
    "    print (\"¡Cuidado, hay un asteroide cerca de la Tierra!\")\n",
    "elif vel_aster_ray < 20:\n",
    "    print (\"No te preocupes, todo en orden\")"
   ]
  },
  {
   "cell_type": "markdown",
   "metadata": {},
   "source": [
    "## Advertencia a la gente de la tierra usando un cliclo \"or\" o \"and\""
   ]
  },
  {
   "cell_type": "code",
   "execution_count": 28,
   "metadata": {},
   "outputs": [
    {
     "name": "stdout",
     "output_type": "stream",
     "text": [
      "¡Y viene a alta velocidad!¡Corre por tu vida!\n"
     ]
    }
   ],
   "source": [
    "tam_aster = 20 # metros\n",
    "velocidad = 21 #km/s\n",
    "if tam_aster >= 25 and tam_aster < 1000:\n",
    "    print (\"¡Cuidado! Se acerca un asteroide muy grande\")\n",
    "elif velocidad >= 20: #km/s\n",
    "    print (\"¡Un asteroide viene a velocidad!¡Corre por tu vida!\")\n",
    "else:\n",
    "    print (\"Todo en orden\")"
   ]
  }
 ],
 "metadata": {
  "interpreter": {
   "hash": "aee8b7b246df8f9039afb4144a1f6fd8d2ca17a180786b69acc140d282b71a49"
  },
  "kernelspec": {
   "display_name": "Python 3.8.0 64-bit",
   "language": "python",
   "name": "python3"
  },
  "language_info": {
   "codemirror_mode": {
    "name": "ipython",
    "version": 3
   },
   "file_extension": ".py",
   "mimetype": "text/x-python",
   "name": "python",
   "nbconvert_exporter": "python",
   "pygments_lexer": "ipython3",
   "version": "3.8.0"
  },
  "orig_nbformat": 4
 },
 "nbformat": 4,
 "nbformat_minor": 2
}
